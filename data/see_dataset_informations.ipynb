{
 "cells": [
  {
   "cell_type": "code",
   "execution_count": 1,
   "metadata": {},
   "outputs": [
    {
     "name": "stdout",
     "output_type": "stream",
     "text": [
      "rf2.npz\n",
      "(9125, 576)\n",
      "(9125, 8)\n",
      "\n",
      "rf1.npz\n",
      "(9125, 64)\n",
      "(9125, 8)\n",
      "\n",
      "taxi.npz\n",
      "(61286, 6)\n",
      "(61286, 2)\n",
      "\n",
      "CASP.npz\n",
      "(45730, 8)\n",
      "(45730, 2)\n",
      "\n",
      "energy.npz\n",
      "(768, 8)\n",
      "(768, 2)\n",
      "\n",
      "house.npz\n",
      "(21613, 17)\n",
      "(21613, 2)\n",
      "\n",
      "scm20d.npz\n",
      "(8966, 61)\n",
      "(8966, 16)\n",
      "\n",
      "scm1d.npz\n",
      "(9803, 280)\n",
      "(9803, 16)\n",
      "\n",
      "Bias_correction_ucl.npz\n",
      "(7752, 22)\n",
      "(7752, 2)\n",
      "\n"
     ]
    }
   ],
   "source": [
    "import numpy as np\n",
    "import os \n",
    "\n",
    "# Charger le fichier\n",
    "for file in os.listdir(\"processed_data\"):\n",
    "    if file.endswith(\".npz\"):\n",
    "        data = np.load(\"processed_data/\"+file)\n",
    "        print(file)\n",
    "        print(data[\"X\"].shape)\n",
    "        print(data[\"Y\"].shape)\n",
    "        print(\"\")"
   ]
  },
  {
   "cell_type": "code",
   "execution_count": null,
   "metadata": {},
   "outputs": [],
   "source": []
  }
 ],
 "metadata": {
  "kernelspec": {
   "display_name": "base",
   "language": "python",
   "name": "python3"
  },
  "language_info": {
   "codemirror_mode": {
    "name": "ipython",
    "version": 3
   },
   "file_extension": ".py",
   "mimetype": "text/x-python",
   "name": "python",
   "nbconvert_exporter": "python",
   "pygments_lexer": "ipython3",
   "version": "3.11.7"
  }
 },
 "nbformat": 4,
 "nbformat_minor": 2
}
